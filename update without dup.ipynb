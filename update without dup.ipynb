{
 "cells": [
  {
   "cell_type": "code",
   "execution_count": 71,
   "metadata": {
    "collapsed": true
   },
   "outputs": [],
   "source": [
    "\n",
    "\n",
    "import requests\n",
    "##url='https://www.basketball-reference.com/leagues/NBA_2005_per_poss.html'\n",
    "##html = requests.get(url)\n",
    "\n",
    "from bs4 import BeautifulSoup\n",
    "import pandas as pd\n",
    "##soup = BeautifulSoup(html.content, \"html.parser\")"
   ]
  },
  {
   "cell_type": "code",
   "execution_count": 72,
   "metadata": {},
   "outputs": [],
   "source": [
    "urls_array=[\"https://www.basketball-reference.com/leagues/NBA_1990_totals.html\"]\n",
    "##, \"https://www.basketball-reference.com/leagues/NBA_1992_per_poss.html\",\n",
    "    ##        \"https://www.basketball-reference.com/leagues/NBA_1995_per_poss.html\",     \n",
    "      ##     \"https://www.basketball-reference.com/leagues/NBA_1997_per_poss.html\",\"https://www.basketball-reference.com/leagues/NBA_1999_per_poss.html\",\n",
    "        ##   \"https://www.basketball-reference.com/leagues/NBA_2008_per_poss.html\", \"https://www.basketball-reference.com/leagues/NBA_2012_per_poss.html\",\n",
    "          ## \"https://www.basketball-reference.com/leagues/NBA_2015_per_poss.html\",\"https://www.basketball-reference.com/leagues/NBA_2017_per_poss.html\",\n",
    "           ##\"https://www.basketball-reference.com/leagues/NBA_2021_per_poss.html\"]\n",
    "players=[]\n",
    "age_s=[]\n",
    "p3_s=[]\n",
    "p3a_s=[]\n",
    "p3p_s=[]\n",
    "p2_s=[]\n",
    "p2a_s=[]\n",
    "p2p_s=[]\n",
    "ft_s=[]\n",
    "fta_s=[]\n",
    "ftp_s=[]\n",
    "orb_s=[]\n",
    "drb_s=[]\n",
    "ast_s=[]\n",
    "pts_s=[]\n",
    "\n",
    "table = soup.find('table')\n",
    "table_rows = table.find_all('tr')"
   ]
  },
  {
   "cell_type": "code",
   "execution_count": 73,
   "metadata": {},
   "outputs": [],
   "source": [
    "for url in urls_array:\n",
    "    html = requests.get(url)\n",
    "    soup = BeautifulSoup(html.content, \"html.parser\")\n",
    "    for tr in table_rows:\n",
    "        td = tr('td')\n",
    "        row = [tr.text.strip() for tr in td if tr.text.strip()]\n",
    "        if row:\n",
    "            players.append(row[0])\n",
    "            age_s.append(row[2])\n",
    "            p3_s.append(row[10])\n",
    "            p3a_s.append(row[11])\n",
    "            p3p_s.append(row[12])\n",
    "            p2_s.append(row[13])\n",
    "            p2a_s.append(row[14])\n",
    "            p2p_s.append(row[15])\n",
    "            ft_s.append(row[17])\n",
    "            fta_s.append(row[18])\n",
    "            ftp_s.append(row[19])\n",
    "            orb_s.append(row[20])\n",
    "            drb_s.append(row[21])\n",
    "            ast_s.append(row[23])"
   ]
  },
  {
   "cell_type": "code",
   "execution_count": 74,
   "metadata": {
    "scrolled": true
   },
   "outputs": [
    {
     "data": {
      "text/plain": [
       "'momo'"
      ]
     },
     "execution_count": 74,
     "metadata": {},
     "output_type": "execute_result"
    }
   ],
   "source": [
    "df = pd.DataFrame({\"Player Name\":players,\"AGE\":age_s,\"3P\":p3_s,\"3PA\":p3a_s,\"P3%\":p3p_s,\"2P\":p2_s,\"2PA\":p2_s,\"2P%\":p2p_s,\"FT\":ft_s,\"FTA\":fta_s,\"FT%\":ftp_s,\"ORB\":orb_s,\"DRB\":drb_s,\"AST\":ast_s})\n",
    "df.drop_duplicates(subset='Player Name', keep='first', inplace=True)\n",
    "df\n",
    "if (p2p_s[2][0]!='1'):\n",
    "    p2p_s[2]= \"momo\"\n",
    "\n",
    "p2p_s[2]"
   ]
  },
  {
   "cell_type": "code",
   "execution_count": null,
   "metadata": {
    "collapsed": true
   },
   "outputs": [],
   "source": [
    "#df = pd.DataFrame({\"player\":players,\"AGE\":age_s,\"3P\":p3_s,\"3PA\":p3a_s,\"P3%\":p3p_s,\"2P\":p2_s,\"2PA\":p2_s,\"2P%\":p2p_s,\"FT\":ft_s,\"FTA\":fta_s,\"FT%\":ftp_s,\"ORB\":orb_s,\"DRB\":drb_s,\"AST\":ast_s})\n"
   ]
  }
 ],
 "metadata": {
  "kernelspec": {
   "display_name": "Python 3 [3.7]",
   "language": "python",
   "name": "python3"
  },
  "language_info": {
   "codemirror_mode": {
    "name": "ipython",
    "version": 3
   },
   "file_extension": ".py",
   "mimetype": "text/x-python",
   "name": "python",
   "nbconvert_exporter": "python",
   "pygments_lexer": "ipython3",
   "version": "3.7.5"
  }
 },
 "nbformat": 4,
 "nbformat_minor": 2
}
